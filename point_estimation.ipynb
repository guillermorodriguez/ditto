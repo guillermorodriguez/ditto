{
 "cells": [
  {
   "cell_type": "code",
   "execution_count": null,
   "metadata": {},
   "outputs": [],
   "source": [
    "import numpy as np\n",
    "import os, random"
   ]
  },
  {
   "cell_type": "code",
   "execution_count": 2,
   "metadata": {},
   "outputs": [],
   "source": [
    "class Estimator():\n",
    "    def __init__(self, observations, lam):\n",
    "        self.w_star = np.mean(observations)  # w_star is the optimal global model\n",
    "        self.w_local = observations  \n",
    "        self.K, self.lam = len(observations), lam\n",
    "        \n",
    "        \n",
    "    def solve_mtl(self, lam):\n",
    "        # empirical solutions with the l2 regularizer\n",
    "        w_local_mtl = np.zeros(self.K)\n",
    "        for i in range(self.K):\n",
    "            w_local_mtl[i] = (lam / (1+lam)) * self.w_star + (1/(1+lam)) * self.w_local[i]\n",
    "        return w_local_mtl\n",
    "    \n",
    "    \n",
    "    def get_local_test_error(self, w, w_true):\n",
    "        return (w-w_true)**2\n",
    "    \n",
    "    \n",
    "    def get_overall_loss(self, w_true):\n",
    "        # compute (w_k - w_\\lambda_empirical)^2 given the observations \n",
    "        w_local_mtl = self.solve_mtl(self.lam)\n",
    "        test_loss = []\n",
    "        for i in range(self.K):\n",
    "            test_loss.append(self.get_local_test_error(w_local_mtl[i], w_true[i]))\n",
    "        return test_loss\n",
    "        "
   ]
  },
  {
   "cell_type": "code",
   "execution_count": 3,
   "metadata": {},
   "outputs": [],
   "source": [
    "class Simulator():\n",
    "    def __init__(self, num_mali=0, tau_a = 0.5, theta=0, tau=0.1, sigma=1, K=20, n=20, num_trial=1000):\n",
    "        \n",
    "        self.optimal_lambda = sigma**2 /n *(K /(K * tau**2 + num_mali * (tau_a**2-tau**2)/(K-1)))\n",
    "        #print('optimal lambda: ', self.optimal_lambda)\n",
    "\n",
    "        sigma_n_square = (sigma**2) / n\n",
    "        self.sigma_w_square = 1/(1/sigma_n_square + (K-1)/(K * (tau**2) + sigma_n_square + (num_mali * 1.0 /(K-1)) * (tau_a**2-tau**2)))\n",
    "        #print(\"sigma_w_square (min obj value):\", self.sigma_w_square)\n",
    "        #print(\"min variance:\", 2 * (self.sigma_w_square**2))\n",
    "        \n",
    "        self.w_underlying = np.zeros((num_trial, K))\n",
    "        for i in range(num_mali):\n",
    "            self.w_underlying[:,i] = np.random.normal(theta, tau_a, num_trial)\n",
    "        for i in range(num_mali, K):\n",
    "            self.w_underlying[:,i] = np.random.normal(theta, tau, num_trial)\n",
    "            \n",
    "            \n",
    "        self.w_empirical = np.zeros((num_trial, K))\n",
    "        for j in range(num_trial):\n",
    "            for i in range(K):\n",
    "                self.w_empirical[j][i] = np.random.normal(self.w_underlying[j][i], sigma / np.sqrt(n))\n",
    "                \n",
    "        self.num_mali = num_mali\n",
    "    \n",
    "    \n",
    "    def run(self, lambdas, num_trial=1000):\n",
    "\n",
    "        w_underlying, w_empirical = self.w_underlying, self.w_empirical\n",
    "        \n",
    "        sols = {}\n",
    "        variance={}\n",
    "        for lam in lambdas:\n",
    "            loss = 0 \n",
    "            var_ = 0\n",
    "            for trials in range(num_trial):\n",
    "                e = Estimator(w_empirical[trials], lam)\n",
    "                l_vec = e.get_overall_loss(w_underlying[trials])  \n",
    "                loss += np.mean(l_vec[self.num_mali:])\n",
    "                var_ += np.var(l_vec[self.num_mali:])\n",
    "            \n",
    "            sols[lam] = loss / num_trial\n",
    "            variance[lam] = var_ / num_trial\n",
    "            #print(lam, loss/num_trial, var_/num_trial)\n",
    "        return sols, variance"
   ]
  },
  {
   "cell_type": "code",
   "execution_count": 4,
   "metadata": {
    "scrolled": true
   },
   "outputs": [
    {
     "name": "stdout",
     "output_type": "stream",
     "text": [
      "[  0.    0.2   0.4   0.6   0.8   1.    1.2   1.4   1.6   1.8   2.    2.2\n",
      "   2.4   2.6   2.8   3.    3.5   4.    4.5   5.    5.5   6.    6.5   7.\n",
      "   7.5   8.    8.5   9.    9.5  10.   20.   30.   40.   50.   60.   70.\n",
      "  80.   90.  100.  110.  120.  130.  140.  150.  160.  170.  180.  190. ]\n"
     ]
    }
   ],
   "source": [
    "lambdas = np.concatenate((np.arange(0, 3, 0.2), np.arange(3, 10, 0.5), np.arange(10, 200, 10)))\n",
    "print(lambdas)\n",
    "\n",
    "K=8\n",
    "plotting = Simulator(sigma=0.8, n=30,  tau=0.1, tau_a=0.1, K=K) \n",
    "mse, variance = plotting.run(lambdas = lambdas)\n",
    "\n",
    "K=16\n",
    "plotting2 = Simulator(sigma=0.8, n=30, tau=0.1, tau_a=0.5, K=K, num_mali=int(0.5*K)) \n",
    "mse2, variance2 = plotting2.run(lambdas = lambdas)\n",
    "\n"
   ]
  },
  {
   "cell_type": "code",
   "execution_count": 5,
   "metadata": {},
   "outputs": [],
   "source": [
    "import os, sys\n",
    "import re\n",
    "import matplotlib.pyplot as plt\n",
    "import matplotlib\n",
    "import numpy as np\n",
    "import matplotlib.ticker as mticker\n",
    "from matplotlib import rcParams\n",
    "matplotlib.rcParams['font.family'] = \"sans-serif\"\n",
    "matplotlib.rcParams['font.sans-serif'] = \"Arial\"\n",
    "from mpl_toolkits.axisartist.axislines import Subplot\n",
    "import matplotlib.patches as mpatches\n",
    "from matplotlib.lines import Line2D\n",
    "from matplotlib import rc\n",
    "rc('text', usetex=True)\n",
    "\n",
    "\n",
    "plt.rc('font', size=14)          # controls default text sizes\n",
    "plt.rc('axes', titlesize=16)     # fontsize of the axes title\n",
    "plt.rc('axes', labelsize=13)     # fontsize of the x and y labels\n",
    "plt.rc('xtick', labelsize=12)    # fontsize of the tick labels\n",
    "plt.rc('ytick', labelsize=12)    # fontsize of the tick labels\n",
    "plt.rc('legend', fontsize=14)    # legend fontsize\n",
    "plt.rc('figure', titlesize=16)   # fontsize of the figure title\n"
   ]
  },
  {
   "cell_type": "code",
   "execution_count": 6,
   "metadata": {},
   "outputs": [],
   "source": [
    "def errorfill(x, y, yerr, color=None, alpha_fill=0.15, ax=None, label=None):\n",
    "    ax = ax if ax is not None else plt.gca()\n",
    "    if color is None:\n",
    "        color = next(ax._get_lines.prop_cycler)['color']\n",
    "    if np.isscalar(yerr) or len(yerr) == len(y):\n",
    "        ymin = y - yerr\n",
    "        ymax = y + yerr\n",
    "    elif len(yerr) == 2:\n",
    "        ymin, ymax = yerr\n",
    "    ax.plot(x, y, color=color, label=label)\n",
    "    ax.fill_between(x, ymax, ymin, color=color, alpha=alpha_fill, linewidth=0)"
   ]
  },
  {
   "cell_type": "code",
   "execution_count": 7,
   "metadata": {},
   "outputs": [],
   "source": [
    "# Added to fix issue I was getting \n",
    "# https://stackoverflow.com/questions/58121461/runtimeerror-failed-to-process-string-with-tex-because-latex-could-not-be-found\n",
    "import matplotlib as mpl\n",
    "mpl.rcParams.update(mpl.rcParamsDefault)"
   ]
  },
  {
   "cell_type": "code",
   "execution_count": 8,
   "metadata": {},
   "outputs": [],
   "source": [
    "# import matplotlib\n",
    "# matplotlib.matplotlib_fname()"
   ]
  },
  {
   "cell_type": "code",
   "execution_count": 9,
   "metadata": {},
   "outputs": [],
   "source": [
    "# import matplotlib.rcsetup as rcsetup\n",
    "# print(rcsetup.all_backends)"
   ]
  },
  {
   "cell_type": "code",
   "execution_count": 10,
   "metadata": {
    "scrolled": true
   },
   "outputs": [
    {
     "name": "stderr",
     "output_type": "stream",
     "text": [
      "C:\\Users\\caleb\\PycharmProjects\\ditto\\ven\\lib\\site-packages\\ipykernel_launcher.py:21: UserWarning: Attempted to set non-positive left xlim on a log-scaled axis.\n",
      "Invalid limit will be ignored.\n",
      "C:\\Users\\caleb\\PycharmProjects\\ditto\\ven\\lib\\site-packages\\ipykernel_launcher.py:36: UserWarning: Attempted to set non-positive left xlim on a log-scaled axis.\n",
      "Invalid limit will be ignored.\n"
     ]
    },
    {
     "data": {
      "image/png": "[encoded data removed]",
      "text/plain": [
       "<Figure size 540x216 with 2 Axes>"
      ]
     },
     "metadata": {
      "needs_background": "light"
     },
     "output_type": "display_data"
    }
   ],
   "source": [
    "import matplotlib.pylab as pl\n",
    "%matplotlib inline\n",
    "\n",
    "colors = pl.cm.Reds(np.linspace(0, 1, len(variance.values())))\n",
    "\n",
    "f = plt.figure(figsize=[7.5, 3])\n",
    "\n",
    "\n",
    "plt.title(\"\")\n",
    "\n",
    "ax = plt.subplot(1, 2, 1)\n",
    "#plt.errorbar(lambdas, list(mse.values()), yerr = [np.sqrt(a) for a in list(variance.values())], label='clean')\n",
    "#plt.errorbar(lambdas, list(mse2.values()), yerr = [np.sqrt(a) for a in list(variance2.values())], label='adversarial')\n",
    "errorfill(lambdas,np.array(list(mse.values())), \n",
    "          np.array([np.sqrt(a) / np.sqrt(8) for a in list(variance.values())]), label='clean', color='#2ca02c')\n",
    "\n",
    "plt.ylabel('test error', fontsize=16)\n",
    "plt.xlabel(r'$\\lambda$', fontsize=16)\n",
    "plt.xscale('log')\n",
    "plt.ylim(0.002, 0.03)\n",
    "plt.xlim(0, 100)\n",
    "plt.title('clean')\n",
    "#plt.vlines(2.1333, -0.01, 0.016, linestyles='dashed', color='#2ca02c')\n",
    "#plt.annotate(r'$\\lambda^*$', (1.95, 0.018))\n",
    "#plt.legend(frameon=False)\n",
    "\n",
    "ax = plt.subplot(1, 2, 2)\n",
    "errorfill(lambdas,np.array(list(mse2.values())), \n",
    "          np.array([np.sqrt(a) / np.sqrt(16 * 0.5)  for a in list(variance2.values())]), label='adversarial', color='#d62728')\n",
    "    \n",
    "\n",
    "plt.ylabel('test error', fontsize=16)\n",
    "plt.xlabel(r'$\\lambda$', fontsize=16)\n",
    "plt.xscale('log')\n",
    "plt.ylim(0.002, 0.03)\n",
    "plt.xlim(0, 100)\n",
    "plt.title('adversarial')\n",
    "#plt.vlines(1.1851, -0.01, 0.018, linestyles='dashed', color='#d62728')\n",
    "#plt.annotate(r'$\\lambda^*$', (1.05, 0.02))\n",
    "plt.tight_layout()\n",
    "#plt.legend(frameon=False)\n",
    "\n",
    "#f.savefig(\"pe_fig.pdf\")"
   ]
  },
  {
   "cell_type": "code",
   "execution_count": 11,
   "metadata": {
    "scrolled": false
   },
   "outputs": [],
   "source": [
    "mse = [[], [], []]\n",
    "var_ = [[], [], []]\n",
    "taus = np.arange(0.0001, 1, 0.05)\n",
    "for t in taus:\n",
    "    plotting = Simulator(tau = t) \n",
    "    mse_all, variance_all = plotting.run(lambdas = [0, plotting.optimal_lambda, 1000])\n",
    "    mse[0].append(mse_all[0])\n",
    "    mse[1].append(mse_all[plotting.optimal_lambda])\n",
    "    mse[2].append(mse_all[1000])\n",
    "    var_[0].append(variance_all[0])\n",
    "    var_[1].append(variance_all[plotting.optimal_lambda])\n",
    "    var_[2].append(variance_all[1000])\n"
   ]
  },
  {
   "cell_type": "code",
   "execution_count": 12,
   "metadata": {
    "scrolled": false
   },
   "outputs": [],
   "source": [
    "mse2 = [[], [], []]\n",
    "var_2 = [[], [], []]\n",
    "\n",
    "for t in taus:\n",
    "    plotting = Simulator(tau = t, num_mali = 3, tau_a=0.1, theta=0, sigma=0.5, K=10, n=10, num_trial=2000) \n",
    "    mse_all2, variance_all2 = plotting.run(lambdas = [0, plotting.optimal_lambda, 1000])\n",
    "    mse2[0].append(mse_all2[0])\n",
    "    mse2[1].append(mse_all2[plotting.optimal_lambda])\n",
    "    mse2[2].append(mse_all2[1000])\n",
    "    var_2[0].append(variance_all2[0])\n",
    "    var_2[1].append(variance_all2[plotting.optimal_lambda])\n",
    "    var_2[2].append(variance_all2[1000])\n"
   ]
  },
  {
   "cell_type": "code",
   "execution_count": 13,
   "metadata": {},
   "outputs": [
    {
     "name": "stdout",
     "output_type": "stream",
     "text": [
      "[0.004691229714143215, 0.00464193506040532, 0.0046045478064300205, 0.004815727424092007, 0.0044655059128898954, 0.004900656316365373, 0.004809724664451162, 0.0048150589721706865, 0.0046186664276411426, 0.004802014529574492, 0.00480355155315705, 0.004750055635919379, 0.004822277834939051, 0.004713069643640793, 0.0047348774806085245, 0.004577413588456595, 0.004651851677883511, 0.004651971354898217, 0.004765216481596075, 0.004682842003120289]\n"
     ]
    },
    {
     "data": {
      "image/png": "[encoded data removed]",
      "text/plain": [
       "<Figure size 540x216 with 2 Axes>"
      ]
     },
     "metadata": {
      "needs_background": "light"
     },
     "output_type": "display_data"
    }
   ],
   "source": [
    "f = plt.figure(figsize=[7.5, 3])\n",
    "\n",
    "ax = plt.subplot(1, 2, 1)\n",
    "plt.title(\"clean\")\n",
    "print(var_[0])\n",
    "errorfill(1.0 / taus, np.array(mse[0]), \n",
    "          np.array([np.sqrt(a) for a in var_[0]]), label='local', color='#17becf')\n",
    "errorfill(1.0/taus, np.array(mse[1]), \n",
    "          np.array([np.sqrt(a) for a in var_[1]]), label=r\"Ditto ($\\lambda^*$)\", color='#d62728')\n",
    "errorfill(1.0/taus, np.array(mse[2]), \n",
    "          np.array([np.sqrt(a) for a in var_[2]]), label='global', color='#ff7f0e')\n",
    "\n",
    "plt.ylabel('test error')\n",
    "plt.xlabel(r'$1/\\tau$ (device relatedness)')\n",
    "plt.xscale('log')\n",
    "\n",
    "\n",
    "plt.legend(frameon=False, fontsize=12)\n",
    "plt.ylim(-0.08, 0.28)\n",
    "plt.xlim(2, 12)\n",
    "ax.xaxis.set_major_formatter(mticker.ScalarFormatter())\n",
    "ax.xaxis.set_minor_formatter(mticker.NullFormatter())\n",
    "plt.xticks(np.array([2, 4, 6, 8, 10]))\n",
    "\n",
    "\n",
    "ax.arrow(3.3, -0.062, 0.7, 0, width=0.00013, head_width=0.015, head_length=0.25, fc='gray', ec='gray')\n",
    "ax.annotate('more related', (4.5, -0.07), fontsize=13)\n",
    "\n",
    "ax = plt.subplot(1, 2, 2)\n",
    "plt.title(\"adversarial\")\n",
    "errorfill(1.0 / taus, np.array(mse2[0]), \n",
    "          np.array([np.sqrt(a) for a in var_2[0]]), label='local', color='#17becf')\n",
    "errorfill(1.0 / taus, np.array(mse2[1]), \n",
    "          np.array([np.sqrt(a) for a in var_2[1]]), label=r\"Ditto ($\\lambda^*$)\", color='#d62728')\n",
    "errorfill(1.0 / taus, np.array(mse2[2]), \n",
    "          np.array([np.sqrt(a) for a in var_2[2]]), label='global', color='#ff7f0e')\n",
    "plt.ylabel('test error')\n",
    "plt.xlabel(r'$1 / \\tau$ (device relatedness)')\n",
    "plt.xscale('log')\n",
    "\n",
    "plt.legend(frameon=False, fontsize=12)\n",
    "plt.ylim(-0.05, 0.18)\n",
    "plt.xlim(2, 12)\n",
    "ax.xaxis.set_major_formatter(mticker.ScalarFormatter())\n",
    "ax.xaxis.set_minor_formatter(mticker.NullFormatter())\n",
    "plt.xticks(np.array([2, 4, 6, 8, 10]))\n",
    "ax.arrow(3.3, -0.04, 0.7, 0, width=0.0001, head_width=0.01, head_length=0.25, fc='gray', ec='gray')\n",
    "ax.annotate('more related', (4.5, -0.044), fontsize=13)\n",
    "\n",
    "\n",
    "plt.tight_layout()\n",
    "#f.savefig(\"pe_fig2.pdf\")"
   ]
  }
 ],
 "metadata": {
  "kernelspec": {
   "display_name": "Python 3 (ipykernel)",
   "language": "python",
   "name": "python3"
  },
  "language_info": {
   "codemirror_mode": {
    "name": "ipython",
    "version": 3
   },
   "file_extension": ".py",
   "mimetype": "text/x-python",
   "name": "python",
   "nbconvert_exporter": "python",
   "pygments_lexer": "ipython3",
   "version": "3.7.1"
  },
  "pycharm": {
   "stem_cell": {
    "cell_type": "raw",
    "metadata": {
     "collapsed": false
    },
    "source": []
   }
  }
 },
 "nbformat": 4,
 "nbformat_minor": 4
}
